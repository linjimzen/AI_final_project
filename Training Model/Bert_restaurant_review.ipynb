{
 "cells": [
  {
   "cell_type": "code",
   "execution_count": 1,
   "id": "4914d6cc",
   "metadata": {
    "scrolled": true
   },
   "outputs": [],
   "source": [
    "# Initailly install the hugging face dataset, only do it in the first time\n",
    "# pip install datasets\n",
    "# pip install transformers"
   ]
  },
  {
   "cell_type": "code",
   "execution_count": 2,
   "id": "9826c082",
   "metadata": {},
   "outputs": [],
   "source": [
    "from tensorflow.keras.layers import LSTM,Dense,Bidirectional,Input\n",
    "import tensorflow as tf\n",
    "from tensorflow.keras.models import Model\n",
    "from tensorflow.keras.optimizers import Adam\n",
    "from tensorflow import keras\n",
    "from datasets import load_dataset\n",
    "import pandas as pd\n",
    "import numpy as np\n",
    "import transformers\n",
    "from transformers import BertTokenizer"
   ]
  },
  {
   "cell_type": "code",
   "execution_count": 3,
   "id": "1899bd5a",
   "metadata": {},
   "outputs": [],
   "source": [
    "from transformers import TFBertModel"
   ]
  },
  {
   "cell_type": "code",
   "execution_count": 4,
   "id": "b51a095b",
   "metadata": {},
   "outputs": [
    {
     "name": "stdout",
     "output_type": "stream",
     "text": [
      "[PhysicalDevice(name='/physical_device:GPU:0', device_type='GPU')]\n"
     ]
    }
   ],
   "source": [
    "physical_devices = tf.config.list_physical_devices('GPU')\n",
    "if len(physical_devices) > 0:\n",
    "    tf.config.experimental.set_memory_growth(physical_devices[0], enable=True)\n",
    "print(physical_devices)"
   ]
  },
  {
   "cell_type": "code",
   "execution_count": 5,
   "id": "6fe478de",
   "metadata": {
    "scrolled": true
   },
   "outputs": [
    {
     "name": "stdout",
     "output_type": "stream",
     "text": [
      "Desribe: \n",
      "<bound method NDFrame.describe of                                                 Review  Liked\n",
      "25   That's right....the red velvet cake.....ohhh t...      1\n",
      "464    The inside is really quite nice and very clean.      1\n",
      "372  The dining space is tiny, but elegantly decora...      1\n",
      "730  The food was barely lukewarm, so it must have ...      0\n",
      "757                      This is a GREAT place to eat!      1\n",
      "..                                                 ...    ...\n",
      "337  The burger... I got the \"Gold Standard\" a $17 ...      0\n",
      "91   It's like a really sexy party in your mouth, w...      1\n",
      "80   Coming here is like experiencing an underwhelm...      0\n",
      "703  Our server was very nice and attentive as were...      1\n",
      "921                          This place is disgusting!      0\n",
      "\n",
      "[1000 rows x 2 columns]>\n",
      "Length of Train Data: 800\n",
      "Length of Test Data: 200\n",
      "1    409\n",
      "0    391\n",
      "Name: Liked, dtype: int64\n",
      "0    109\n",
      "1     91\n",
      "Name: Liked, dtype: int64\n"
     ]
    }
   ],
   "source": [
    "# Download from: kaggle datasets download -d hj5992/restaurantreviews\n",
    "\n",
    "file_path = \"C:\\\\Users\\\\WTMH\\\\Desktop\\\\AIModel_Final_Project\\\\Restaurant_Reviews.tsv\"\n",
    "\n",
    "review_data = pd.read_csv(file_path, sep='\\t')\n",
    "review_data.dropna(inplace=True)\n",
    "review_data = review_data.sample(frac=1,random_state=11)\n",
    "\n",
    "print(f\"Desribe: \\n{review_data.describe}\")\n",
    "\n",
    "train_end = 800\n",
    "test_end = 1000\n",
    "\n",
    "# Data splitting\n",
    "train_text=review_data.Review[:train_end]\n",
    "train_label=review_data.Liked[:train_end]\n",
    "test_text=review_data.Review[train_end:test_end]\n",
    "test_label=review_data.Liked[train_end:test_end]\n",
    "\n",
    "print('Length of Train Data:',train_text.shape[0])\n",
    "print('Length of Test Data:',test_text.shape[0])\n",
    "\n",
    "# Show dataset balance\n",
    "print(train_label.value_counts())\n",
    "print(test_label.value_counts())"
   ]
  },
  {
   "cell_type": "code",
   "execution_count": 6,
   "id": "8147ac5d",
   "metadata": {},
   "outputs": [
    {
     "name": "stdout",
     "output_type": "stream",
     "text": [
      "Word Length Statistics:\n",
      "count    1000.000000\n",
      "mean       10.894000\n",
      "std         6.257469\n",
      "min         1.000000\n",
      "25%         6.000000\n",
      "50%        10.000000\n",
      "75%        15.000000\n",
      "max        32.000000\n",
      "Name: Word_Length, dtype: float64\n"
     ]
    }
   ],
   "source": [
    "review_data['Word_Length'] = review_data['Review'].apply(lambda x: len(x.split()))\n",
    "\n",
    "# Statics about the review length \n",
    "print(\"Word Length Statistics:\")\n",
    "print(review_data['Word_Length'].describe())"
   ]
  },
  {
   "cell_type": "code",
   "execution_count": 7,
   "id": "75921ac6",
   "metadata": {},
   "outputs": [],
   "source": [
    "train_text_list = train_text.tolist()\n",
    "test_text_list = test_text.tolist()"
   ]
  },
  {
   "cell_type": "code",
   "execution_count": 9,
   "id": "e1dd383a",
   "metadata": {},
   "outputs": [],
   "source": [
    "# Pretained Tokenizeer \n",
    "# https://blog.csdn.net/weixin_42223207/article/details/119336324\n",
    "# https://huggingface.co/transformers/v4.9.2/internal/tokenization_utils.html#transformers.tokenization_utils_base.PreTrainedTokenizerBase.encode_plus\n",
    "tokenizer = BertTokenizer.from_pretrained('bert-base-uncased',do_lower_case=True) "
   ]
  },
  {
   "cell_type": "code",
   "execution_count": 10,
   "id": "3afa5ec9",
   "metadata": {},
   "outputs": [
    {
     "name": "stdout",
     "output_type": "stream",
     "text": [
      "I'll say one thing for Jeanette and Nelson--even when stranded in a mirthless, witless, painfully inept musical like this, there's still that twinkle in their eyes. Yes, the chemistry between the famous duo is there even when the material is paper thin.\n",
      "['i', \"'\", 'll', 'say', 'one', 'thing', 'for', 'jean', '##ette', 'and', 'nelson', '-', '-', 'even', 'when', 'stranded', 'in', 'a', 'mir', '##th', '##less', ',', 'wit', '##less', ',', 'painfully', 'in', '##ept', 'musical', 'like', 'this', ',', 'there', \"'\", 's', 'still', 'that', 'twinkle', 'in', 'their', 'eyes', '.', 'yes', ',', 'the', 'chemistry', 'between', 'the', 'famous', 'duo', 'is', 'there', 'even', 'when', 'the', 'material', 'is', 'paper', 'thin', '.']\n"
     ]
    }
   ],
   "source": [
    "# a lot of redundent words after tokenizing >> Maybe we should choose the other Tokenizer\n",
    "text = \"I'll say one thing for Jeanette and Nelson--even when stranded in a mirthless, witless, painfully inept musical like this, there's still that twinkle in their eyes. Yes, the chemistry between the famous duo is there even when the material is paper thin.\"\n",
    "tokens = tokenizer.tokenize(text)\n",
    "print(text)\n",
    "print(tokens)\n"
   ]
  },
  {
   "cell_type": "code",
   "execution_count": 11,
   "id": "ce9b8995",
   "metadata": {},
   "outputs": [],
   "source": [
    "# VERY SLOW \n",
    "# Example: encoder: https://huggingface.co/docs/transformers/v4.36.1/en/glossary#input-ids\n",
    "Maximum_Length = 64\n",
    "def bert_encode(data,maximum_length) :\n",
    "    input_ids = []\n",
    "    attention_masks = []\n",
    "  \n",
    "\n",
    "    for i in range(len(data)):\n",
    "        encoded = tokenizer.encode_plus(\n",
    "          data[i],\n",
    "          add_special_tokens=True, # add  [CLS] or [SEP]\n",
    "          max_length=maximum_length,\n",
    "          padding='max_length',\n",
    "          truncation=True,\n",
    "          return_attention_mask=True,\n",
    "        )\n",
    "        \n",
    "        input_ids.append(encoded['input_ids'])\n",
    "        attention_masks.append(encoded['attention_mask'])\n",
    "    return np.array(input_ids),np.array(attention_masks)\n",
    "\n",
    "train_input_ids,train_attention_masks = bert_encode(train_text_list,Maximum_Length) # tokenizer.model_max_length\n",
    "test_input_ids,test_attention_masks = bert_encode(test_text_list,Maximum_Length)"
   ]
  },
  {
   "cell_type": "code",
   "execution_count": 12,
   "id": "91e1092c",
   "metadata": {},
   "outputs": [
    {
     "name": "stdout",
     "output_type": "stream",
     "text": [
      "Encode Dict:\n",
      "{'input_ids': [101, 1045, 1005, 2222, 2360, 2028, 2518, 2005, 3744, 7585, 1998, 5912, 1011, 1011, 2130, 2043, 15577, 1999, 1037, 14719, 2705, 3238, 1010, 15966, 3238, 1010, 16267, 1999, 23606, 3315, 2066, 2023, 1010, 2045, 1005, 1055, 2145, 2008, 29038, 1999, 2037, 2159, 1012, 2748, 1010, 1996, 6370, 2090, 1996, 3297, 6829, 2003, 2045, 2130, 2043, 1996, 3430, 2003, 3259, 4857, 1012, 102, 0, 0], 'token_type_ids': [0, 0, 0, 0, 0, 0, 0, 0, 0, 0, 0, 0, 0, 0, 0, 0, 0, 0, 0, 0, 0, 0, 0, 0, 0, 0, 0, 0, 0, 0, 0, 0, 0, 0, 0, 0, 0, 0, 0, 0, 0, 0, 0, 0, 0, 0, 0, 0, 0, 0, 0, 0, 0, 0, 0, 0, 0, 0, 0, 0, 0, 0, 0, 0], 'attention_mask': [1, 1, 1, 1, 1, 1, 1, 1, 1, 1, 1, 1, 1, 1, 1, 1, 1, 1, 1, 1, 1, 1, 1, 1, 1, 1, 1, 1, 1, 1, 1, 1, 1, 1, 1, 1, 1, 1, 1, 1, 1, 1, 1, 1, 1, 1, 1, 1, 1, 1, 1, 1, 1, 1, 1, 1, 1, 1, 1, 1, 1, 1, 0, 0]}\n",
      "Decode:\n",
      "[CLS] i'll say one thing for jeanette and nelson - - even when stranded in a mirthless, witless, painfully inept musical like this, there's still that twinkle in their eyes. yes, the chemistry between the famous duo is there even when the material is paper thin. [SEP] [PAD] [PAD]\n"
     ]
    }
   ],
   "source": [
    "#Example to show the above encoder\n",
    "\n",
    "encoder_dict = tokenizer.encode_plus(\n",
    "          text,\n",
    "          add_special_tokens=True, # add  [CLS] or [SEP]\n",
    "          max_length=64,\n",
    "          padding='max_length', # add [PAD]\n",
    "          truncation=True,\n",
    "          return_attention_mask=True,\n",
    "        )\n",
    "decode_test = tokenizer.decode(encoder_dict[\"input_ids\"])\n",
    "print(f'Encode Dict:\\n{encoder_dict}')\n",
    "print(f'Decode:\\n{decode_test}')"
   ]
  },
  {
   "cell_type": "code",
   "execution_count": 13,
   "id": "912ff8ba",
   "metadata": {
    "scrolled": false
   },
   "outputs": [
    {
     "name": "stderr",
     "output_type": "stream",
     "text": [
      "Some weights of the PyTorch model were not used when initializing the TF 2.0 model TFBertModel: ['cls.predictions.transform.LayerNorm.bias', 'cls.predictions.transform.dense.bias', 'cls.predictions.bias', 'cls.seq_relationship.bias', 'cls.predictions.transform.dense.weight', 'cls.predictions.transform.LayerNorm.weight', 'cls.seq_relationship.weight']\n",
      "- This IS expected if you are initializing TFBertModel from a PyTorch model trained on another task or with another architecture (e.g. initializing a TFBertForSequenceClassification model from a BertForPreTraining model).\n",
      "- This IS NOT expected if you are initializing TFBertModel from a PyTorch model that you expect to be exactly identical (e.g. initializing a TFBertForSequenceClassification model from a BertForSequenceClassification model).\n",
      "All the weights of TFBertModel were initialized from the PyTorch model.\n",
      "If your task is similar to the task the model of the checkpoint was trained on, you can already use TFBertModel for predictions without further training.\n"
     ]
    }
   ],
   "source": [
    "# uncased: do not make a difference between English and other languages\n",
    "bert_model = transformers.TFBertModel.from_pretrained('bert-base-uncased')\n",
    "# another model(yo don't need to run the \"def build_model()\" below)\n",
    "# bert_model = TFBertForSequenceClassification.from_pretrained(\"bert-base-uncased\")"
   ]
  },
  {
   "cell_type": "code",
   "execution_count": 14,
   "id": "332a13fd",
   "metadata": {},
   "outputs": [],
   "source": [
    "# Reference1 https://www.kaggle.com/code/colearninglounge/vectorization-embeddings-elmo-bert-gpt/notebook#BERT-Embeddings\n",
    "# Reference2 http:/www.kaggle.com/code/satyampd/imdb-sentiment-analysis-using-bert-w-huggingface\n",
    "# Reference3 https://zhuanlan.zhihu.com/p/103226488\n",
    "\n",
    "\n",
    "def build_model(transformer, max_len=Maximum_Length):\n",
    "    \n",
    "    input_word_ids = Input(shape=(max_len,), dtype=tf.int32, name=\"input_word_ids\")\n",
    "    input_masks_ids = Input(shape=(max_len,), dtype=tf.int32, name='masked_token')\n",
    "    sequence_output = transformer([input_word_ids,input_masks_ids])[0]\n",
    "    cls_token = sequence_output[:, 0, :]\n",
    "    out = Dense(1, activation='sigmoid')(cls_token)\n",
    "    \n",
    "    model = Model(inputs=[input_word_ids,input_masks_ids], outputs=out)\n",
    "    model.compile(Adam(lr=2e-5), loss='binary_crossentropy', metrics=['accuracy'])\n",
    "    \n",
    "    return model"
   ]
  },
  {
   "cell_type": "code",
   "execution_count": 15,
   "id": "124ee2a3",
   "metadata": {
    "scrolled": true
   },
   "outputs": [
    {
     "name": "stdout",
     "output_type": "stream",
     "text": [
      "WARNING:tensorflow:AutoGraph could not transform <function input_processing at 0x000001C5CA78E678> and will run it as-is.\n",
      "Please report this to the TensorFlow team. When filing the bug, set the verbosity to 10 (on Linux, `export AUTOGRAPH_VERBOSITY=10`) and attach the full output.\n",
      "Cause: '<' not supported between instances of 'str' and 'Literal'\n",
      "To silence this warning, decorate the function with @tf.autograph.experimental.do_not_convert\n",
      "WARNING: AutoGraph could not transform <function input_processing at 0x000001C5CA78E678> and will run it as-is.\n",
      "Please report this to the TensorFlow team. When filing the bug, set the verbosity to 10 (on Linux, `export AUTOGRAPH_VERBOSITY=10`) and attach the full output.\n",
      "Cause: '<' not supported between instances of 'str' and 'Literal'\n",
      "To silence this warning, decorate the function with @tf.autograph.experimental.do_not_convert\n",
      "WARNING:tensorflow:From C:\\Users\\WTMH\\anaconda3\\envs\\tensor_gpu_py37\\lib\\site-packages\\tensorflow\\python\\ops\\array_ops.py:5049: calling gather (from tensorflow.python.ops.array_ops) with validate_indices is deprecated and will be removed in a future version.\n",
      "Instructions for updating:\n",
      "The `validate_indices` argument has no effect. Indices are always validated on CPU and never validated on GPU.\n",
      "Model: \"model\"\n",
      "__________________________________________________________________________________________________\n",
      "Layer (type)                    Output Shape         Param #     Connected to                     \n",
      "==================================================================================================\n",
      "input_word_ids (InputLayer)     [(None, 64)]         0                                            \n",
      "__________________________________________________________________________________________________\n",
      "masked_token (InputLayer)       [(None, 64)]         0                                            \n",
      "__________________________________________________________________________________________________\n",
      "tf_bert_model (TFBertModel)     TFBaseModelOutputWit 109482240   input_word_ids[0][0]             \n",
      "                                                                 masked_token[0][0]               \n",
      "__________________________________________________________________________________________________\n",
      "tf.__operators__.getitem (Slici (None, 768)          0           tf_bert_model[0][0]              \n",
      "__________________________________________________________________________________________________\n",
      "dense (Dense)                   (None, 1)            769         tf.__operators__.getitem[0][0]   \n",
      "==================================================================================================\n",
      "Total params: 109,483,009\n",
      "Trainable params: 109,483,009\n",
      "Non-trainable params: 0\n",
      "__________________________________________________________________________________________________\n"
     ]
    },
    {
     "name": "stderr",
     "output_type": "stream",
     "text": [
      "C:\\Users\\WTMH\\anaconda3\\envs\\tensor_gpu_py37\\lib\\site-packages\\tensorflow\\python\\keras\\optimizer_v2\\optimizer_v2.py:375: UserWarning: The `lr` argument is deprecated, use `learning_rate` instead.\n",
      "  \"The `lr` argument is deprecated, use `learning_rate` instead.\")\n"
     ]
    }
   ],
   "source": [
    "with tf.device('/GPU:0'):\n",
    "    model = build_model(bert_model)\n",
    "    model.summary()\n",
    "    train_input_ids = tf.constant(train_input_ids)\n",
    "    train_attention_masks = tf.constant(train_attention_masks)\n",
    "    test_input_ids = tf.constant(test_input_ids)\n",
    "    test_attention_masks = tf.constant(test_attention_masks)"
   ]
  },
  {
   "cell_type": "code",
   "execution_count": 16,
   "id": "1ec8d083",
   "metadata": {
    "scrolled": false
   },
   "outputs": [
    {
     "name": "stdout",
     "output_type": "stream",
     "text": [
      "Epoch 1/10\n",
      "WARNING:tensorflow:Gradients do not exist for variables ['tf_bert_model/bert/pooler/dense/kernel:0', 'tf_bert_model/bert/pooler/dense/bias:0'] when minimizing the loss.\n",
      "WARNING:tensorflow:Gradients do not exist for variables ['tf_bert_model/bert/pooler/dense/kernel:0', 'tf_bert_model/bert/pooler/dense/bias:0'] when minimizing the loss.\n",
      "50/50 - 14s - loss: 0.4022 - accuracy: 0.8050 - val_loss: 0.2069 - val_accuracy: 0.9219\n",
      "\n",
      "Epoch 00001: val_loss improved from inf to 0.20692, saving model to best_Bert_weights.h5\n",
      "Epoch 2/10\n",
      "50/50 - 8s - loss: 0.0901 - accuracy: 0.9712 - val_loss: 0.1108 - val_accuracy: 0.9531\n",
      "\n",
      "Epoch 00002: val_loss improved from 0.20692 to 0.11075, saving model to best_Bert_weights.h5\n",
      "Epoch 3/10\n",
      "50/50 - 8s - loss: 0.0276 - accuracy: 0.9912 - val_loss: 0.0993 - val_accuracy: 0.9688\n",
      "\n",
      "Epoch 00003: val_loss improved from 0.11075 to 0.09925, saving model to best_Bert_weights.h5\n",
      "Epoch 4/10\n",
      "50/50 - 8s - loss: 0.0057 - accuracy: 1.0000 - val_loss: 0.1390 - val_accuracy: 0.9583\n",
      "\n",
      "Epoch 00004: val_loss did not improve from 0.09925\n",
      "Epoch 5/10\n",
      "50/50 - 8s - loss: 0.0190 - accuracy: 0.9937 - val_loss: 0.1530 - val_accuracy: 0.9531\n",
      "\n",
      "Epoch 00005: val_loss did not improve from 0.09925\n",
      "Epoch 6/10\n",
      "50/50 - 8s - loss: 0.0062 - accuracy: 0.9987 - val_loss: 0.1204 - val_accuracy: 0.9792\n",
      "\n",
      "Epoch 00006: val_loss did not improve from 0.09925\n",
      "Epoch 7/10\n",
      "50/50 - 8s - loss: 9.5918e-04 - accuracy: 1.0000 - val_loss: 0.1321 - val_accuracy: 0.9792\n",
      "\n",
      "Epoch 00007: val_loss did not improve from 0.09925\n",
      "Epoch 8/10\n",
      "50/50 - 8s - loss: 4.5953e-04 - accuracy: 1.0000 - val_loss: 0.1397 - val_accuracy: 0.9792\n",
      "\n",
      "Epoch 00008: val_loss did not improve from 0.09925\n",
      "Epoch 9/10\n",
      "50/50 - 8s - loss: 3.6018e-04 - accuracy: 1.0000 - val_loss: 0.1402 - val_accuracy: 0.9792\n",
      "\n",
      "Epoch 00009: val_loss did not improve from 0.09925\n",
      "Epoch 10/10\n",
      "50/50 - 8s - loss: 3.1167e-04 - accuracy: 1.0000 - val_loss: 0.1457 - val_accuracy: 0.9792\n",
      "\n",
      "Epoch 00010: val_loss did not improve from 0.09925\n"
     ]
    }
   ],
   "source": [
    "# warning!!　https://github.com/huggingface/transformers/issues/2256\n",
    "# Not fit the data and model on the gpu, so it's very slow >> set steps_per_epoch/batch_size as small vaule\n",
    "from tensorflow.keras.callbacks import ModelCheckpoint\n",
    "\n",
    "BATCH_SIZE = 16\n",
    "\n",
    "checkpoint = ModelCheckpoint(\n",
    "    'best_Bert_weights.h5', \n",
    "    monitor='val_loss',     \n",
    "    mode='min',\n",
    "    verbose=1,    \n",
    "    save_best_only=True,\n",
    "    save_weights_only=False\n",
    ")\n",
    "\n",
    "history = model.fit([train_input_ids,train_attention_masks],train_label,\n",
    "                    batch_size = BATCH_SIZE ,\n",
    "                    steps_per_epoch = train_text.shape[0]//BATCH_SIZE,\n",
    "                    validation_data=([test_input_ids,test_attention_masks],test_label),\n",
    "                    validation_batch_size=BATCH_SIZE,\n",
    "                    validation_steps = test_text.shape[0]//BATCH_SIZE,\n",
    "                    verbose = 2,\n",
    "                    epochs = 10,\n",
    "                    callbacks=[checkpoint])"
   ]
  },
  {
   "cell_type": "code",
   "execution_count": 17,
   "id": "c113e4fc",
   "metadata": {},
   "outputs": [
    {
     "data": {
      "image/png": "[encoded data removed]",
      "text/plain": [
       "<Figure size 1200x500 with 2 Axes>"
      ]
     },
     "metadata": {},
     "output_type": "display_data"
    }
   ],
   "source": [
    "import matplotlib.pyplot as plt\n",
    "\n",
    "train_loss = history.history['loss']\n",
    "val_loss = history.history['val_loss']\n",
    "\n",
    "train_acc = history.history['accuracy']\n",
    "val_acc = history.history['val_accuracy']\n",
    "\n",
    "plt.figure(figsize=(12, 5))\n",
    "\n",
    "plt.subplot(1, 2, 1)\n",
    "plt.plot(train_loss, label='Training Loss')\n",
    "plt.plot(val_loss, label='Validation Loss')\n",
    "plt.title('Loss (Bert)')\n",
    "plt.xlabel('Epoch')\n",
    "plt.ylabel('Loss')\n",
    "plt.legend()\n",
    "\n",
    "plt.subplot(1, 2, 2)\n",
    "plt.plot(train_acc, label='Training Accuracy')\n",
    "plt.plot(val_acc, label='Validation Accuracy')\n",
    "plt.title('Accuracy (Bert)')\n",
    "plt.xlabel('Epoch')\n",
    "plt.ylabel('Accuracy')\n",
    "plt.legend()\n",
    "\n",
    "plt.show()"
   ]
  },
  {
   "cell_type": "code",
   "execution_count": 18,
   "id": "b7ed5fba",
   "metadata": {},
   "outputs": [
    {
     "name": "stdout",
     "output_type": "stream",
     "text": [
      "Text: 'Chefs are nutters. They’re all self-obsessed, delicate, dainty, insecure little souls, and absolute psychopaths. Every last one of them. My gran could do better! And she’s dead!'\n",
      "Predicted label: Negative \n",
      "\n",
      "Text: 'This dish, my dear friend, is nothing short of a culinary catastrophe. I've never encountered anything quite so disastrous in all my years in the kitchen. The flavors are an absolute train wreck, and the texture is reminiscent of a soggy, overcooked sponge. If this were a competition, it would undoubtedly be a contestant for the 'Worst Dish of the Century' award. An absolute travesty to the world of cuisine!'\n",
      "Predicted label: Negative \n",
      "\n",
      "Text: 'The culinary delights on offer here are simply extraordinary, with each bite offering an explosion of exquisite flavors that dance harmoniously on the palate, making it an unforgettable and truly gastronomic experience.'\n",
      "Predicted label: Positive \n",
      "\n"
     ]
    }
   ],
   "source": [
    "# --------------------Result Test------------------------------------\n",
    "import time\n",
    "\n",
    "test1 = \"Chefs are nutters. They’re all self-obsessed, delicate, dainty, insecure little souls, and absolute psychopaths. Every last one of them. My gran could do better! And she’s dead!\"\n",
    "test2 = \"This dish, my dear friend, is nothing short of a culinary catastrophe. I've never encountered anything quite so disastrous in all my years in the kitchen. The flavors are an absolute train wreck, and the texture is reminiscent of a soggy, overcooked sponge. If this were a competition, it would undoubtedly be a contestant for the 'Worst Dish of the Century' award. An absolute travesty to the world of cuisine!\"\n",
    "test3 = \"The culinary delights on offer here are simply extraordinary, with each bite offering an explosion of exquisite flavors that dance harmoniously on the palate, making it an unforgettable and truly gastronomic experience.\"\n",
    "\n",
    "# Tokenize the input sentence into a word list, then encode each word in this list\n",
    "result_input_ids,result_attention_masks = bert_encode([test1,test2,test3],Maximum_Length)\n",
    "\n",
    "# To tesnor format\n",
    "input_ids = tf.constant(result_input_ids)\n",
    "attention_mask = tf.constant(result_attention_masks)\n",
    "\n",
    "# Feed the encoded lsit into model and predict \n",
    "label_map = {0: \"Negative\", 1: \"Positive\"}\n",
    "prob = model([input_ids, attention_mask])\n",
    "predicted_labels = (prob.numpy() > 0.5).astype(int)\n",
    "\n",
    "for i, label in enumerate(predicted_labels):\n",
    "    test_text = [test1, test2, test3][i]\n",
    "    print(f\"Text: '{test_text}'\")\n",
    "    print(\"Predicted label:\", label_map[label[0]], \"\\n\")\n"
   ]
  },
  {
   "cell_type": "markdown",
   "id": "e16d9592",
   "metadata": {},
   "source": [
    "# Load the trained model and predict"
   ]
  },
  {
   "cell_type": "code",
   "execution_count": 24,
   "id": "e3f3d959",
   "metadata": {},
   "outputs": [
    {
     "name": "stdout",
     "output_type": "stream",
     "text": [
      "WARNING:tensorflow:Error in loading the saved optimizer state. As a result, your model is starting with a freshly initialized optimizer.\n"
     ]
    }
   ],
   "source": [
    "# laod from weights and model\n",
    "from keras.models import load_model\n",
    "from transformers import TFBertModel\n",
    "path = './best_Bert_weights.h5'\n",
    "new_model = load_model(path, custom_objects={'TFBertModel': TFBertModel})\n",
    "\n",
    "# laod from weights\n",
    "# path = '.\\\\best_DistillBert_weights.h5'\n",
    "# new_model = build_model(distillBert_model)\n",
    "# new_model.load_weights(path)"
   ]
  },
  {
   "cell_type": "code",
   "execution_count": 25,
   "id": "620ff0b5",
   "metadata": {},
   "outputs": [
    {
     "name": "stdout",
     "output_type": "stream",
     "text": [
      "Text: 'Chefs are nutters. They’re all self-obsessed, delicate, dainty, insecure little souls, and absolute psychopaths. Every last one of them. My gran could do better! And she’s dead!'\n",
      "Predicted label: Negative \n",
      "\n",
      "Text: 'This dish, my dear friend, is nothing short of a culinary catastrophe. I've never encountered anything quite so disastrous in all my years in the kitchen. The flavors are an absolute train wreck, and the texture is reminiscent of a soggy, overcooked sponge. If this were a competition, it would undoubtedly be a contestant for the 'Worst Dish of the Century' award. An absolute travesty to the world of cuisine!'\n",
      "Predicted label: Negative \n",
      "\n",
      "Text: 'The culinary delights on offer here are simply extraordinary, with each bite offering an explosion of exquisite flavors that dance harmoniously on the palate, making it an unforgettable and truly gastronomic experience.'\n",
      "Predicted label: Positive \n",
      "\n"
     ]
    }
   ],
   "source": [
    "test1 = \"Chefs are nutters. They’re all self-obsessed, delicate, dainty, insecure little souls, and absolute psychopaths. Every last one of them. My gran could do better! And she’s dead!\"\n",
    "test2 = \"This dish, my dear friend, is nothing short of a culinary catastrophe. I've never encountered anything quite so disastrous in all my years in the kitchen. The flavors are an absolute train wreck, and the texture is reminiscent of a soggy, overcooked sponge. If this were a competition, it would undoubtedly be a contestant for the 'Worst Dish of the Century' award. An absolute travesty to the world of cuisine!\"\n",
    "test3 = \"The culinary delights on offer here are simply extraordinary, with each bite offering an explosion of exquisite flavors that dance harmoniously on the palate, making it an unforgettable and truly gastronomic experience.\"\n",
    "\n",
    "# Tokenize the input sentence into a word list, then encode each word in this list\n",
    "result_input_ids,result_attention_masks = bert_encode([test1,test2,test3],Maximum_Length)\n",
    "\n",
    "# To tesnor format\n",
    "input_ids = tf.constant(result_input_ids)\n",
    "attention_mask = tf.constant(result_attention_masks)\n",
    "\n",
    "# Feed the encoded lsit into model and predict \n",
    "label_map = {0: \"Negative\", 1: \"Positive\"}\n",
    "prob = new_model([input_ids, attention_mask])\n",
    "predicted_labels = (prob.numpy() > 0.5).astype(int)\n",
    "\n",
    "for i, label in enumerate(predicted_labels):\n",
    "    test_text = [test1, test2, test3][i]\n",
    "    print(f\"Text: '{test_text}'\")\n",
    "    print(\"Predicted label:\", label_map[label[0]], \"\\n\")\n"
   ]
  },
  {
   "cell_type": "code",
   "execution_count": null,
   "id": "b6509e03",
   "metadata": {},
   "outputs": [],
   "source": []
  }
 ],
 "metadata": {
  "kernelspec": {
   "display_name": "Python 3 (ipykernel)",
   "language": "python",
   "name": "python3"
  },
  "language_info": {
   "codemirror_mode": {
    "name": "ipython",
    "version": 3
   },
   "file_extension": ".py",
   "mimetype": "text/x-python",
   "name": "python",
   "nbconvert_exporter": "python",
   "pygments_lexer": "ipython3",
   "version": "3.7.16"
  }
 },
 "nbformat": 4,
 "nbformat_minor": 5
}
