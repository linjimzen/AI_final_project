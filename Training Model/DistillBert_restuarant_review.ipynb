{
 "cells": [
  {
   "cell_type": "code",
   "execution_count": 1,
   "id": "2d56c81b",
   "metadata": {},
   "outputs": [],
   "source": [
    "# Initailly install the hugging face dataset, only do it in the first time\n",
    "# pip install datasets\n",
    "# pip install transformers"
   ]
  },
  {
   "cell_type": "code",
   "execution_count": 2,
   "id": "82ea220d",
   "metadata": {},
   "outputs": [],
   "source": [
    "from tensorflow.keras.layers import LSTM,Dense,Bidirectional,Input\n",
    "import tensorflow as tf\n",
    "from tensorflow.keras.models import Model\n",
    "from tensorflow.keras.optimizers import Adam\n",
    "from tensorflow import keras\n",
    "from datasets import load_dataset\n",
    "import pandas as pd\n",
    "import numpy as np\n",
    "import transformers\n",
    "from transformers import DistilBertTokenizer"
   ]
  },
  {
   "cell_type": "code",
   "execution_count": 3,
   "id": "43c36f59",
   "metadata": {},
   "outputs": [],
   "source": [
    "from transformers import TFDistilBertModel"
   ]
  },
  {
   "cell_type": "code",
   "execution_count": 4,
   "id": "47740dfc",
   "metadata": {},
   "outputs": [
    {
     "name": "stdout",
     "output_type": "stream",
     "text": [
      "[PhysicalDevice(name='/physical_device:GPU:0', device_type='GPU')]\n"
     ]
    }
   ],
   "source": [
    "physical_devices = tf.config.list_physical_devices('GPU')\n",
    "if len(physical_devices) > 0:\n",
    "    tf.config.experimental.set_memory_growth(physical_devices[0], enable=True)\n",
    "print(physical_devices)"
   ]
  },
  {
   "cell_type": "code",
   "execution_count": 5,
   "id": "629a36d0",
   "metadata": {
    "scrolled": true
   },
   "outputs": [
    {
     "name": "stdout",
     "output_type": "stream",
     "text": [
      "Desribe: \n",
      "<bound method NDFrame.describe of                                                 Review  Liked\n",
      "25   That's right....the red velvet cake.....ohhh t...      1\n",
      "464    The inside is really quite nice and very clean.      1\n",
      "372  The dining space is tiny, but elegantly decora...      1\n",
      "730  The food was barely lukewarm, so it must have ...      0\n",
      "757                      This is a GREAT place to eat!      1\n",
      "..                                                 ...    ...\n",
      "337  The burger... I got the \"Gold Standard\" a $17 ...      0\n",
      "91   It's like a really sexy party in your mouth, w...      1\n",
      "80   Coming here is like experiencing an underwhelm...      0\n",
      "703  Our server was very nice and attentive as were...      1\n",
      "921                          This place is disgusting!      0\n",
      "\n",
      "[1000 rows x 2 columns]>\n",
      "Length of Train Data: 800\n",
      "Length of Test Data: 200\n",
      "1    409\n",
      "0    391\n",
      "Name: Liked, dtype: int64\n",
      "0    109\n",
      "1     91\n",
      "Name: Liked, dtype: int64\n"
     ]
    }
   ],
   "source": [
    "# Download from: kaggle datasets download -d hj5992/restaurantreviews\n",
    "\n",
    "file_path = \"C:\\\\Users\\\\WTMH\\\\Desktop\\\\AIModel_Final_Project\\\\Restaurant_Reviews.tsv\"\n",
    "\n",
    "review_data = pd.read_csv(file_path, sep='\\t')\n",
    "review_data.dropna(inplace=True)\n",
    "review_data = review_data.sample(frac=1,random_state=11)\n",
    "\n",
    "print(f\"Desribe: \\n{review_data.describe}\")\n",
    "\n",
    "train_end = 800\n",
    "test_end = 1000\n",
    "\n",
    "# Data splitting\n",
    "train_text=review_data.Review[:train_end]\n",
    "train_label=review_data.Liked[:train_end]\n",
    "test_text=review_data.Review[train_end:test_end]\n",
    "test_label=review_data.Liked[train_end:test_end]\n",
    "\n",
    "print('Length of Train Data:',train_text.shape[0])\n",
    "print('Length of Test Data:',test_text.shape[0])\n",
    "\n",
    "# Show dataset balance\n",
    "print(train_label.value_counts())\n",
    "print(test_label.value_counts())"
   ]
  },
  {
   "cell_type": "code",
   "execution_count": 6,
   "id": "6d059ec3",
   "metadata": {},
   "outputs": [
    {
     "name": "stdout",
     "output_type": "stream",
     "text": [
      "Word Length Statistics:\n",
      "count    1000.000000\n",
      "mean       10.894000\n",
      "std         6.257469\n",
      "min         1.000000\n",
      "25%         6.000000\n",
      "50%        10.000000\n",
      "75%        15.000000\n",
      "max        32.000000\n",
      "Name: Word_Length, dtype: float64\n"
     ]
    }
   ],
   "source": [
    "review_data['Word_Length'] = review_data['Review'].apply(lambda x: len(x.split()))\n",
    "\n",
    "# Statics about the review length \n",
    "print(\"Word Length Statistics:\")\n",
    "print(review_data['Word_Length'].describe())"
   ]
  },
  {
   "cell_type": "code",
   "execution_count": 7,
   "id": "14358b39",
   "metadata": {},
   "outputs": [],
   "source": [
    "train_text_list = train_text.tolist()\n",
    "test_text_list = test_text.tolist()"
   ]
  },
  {
   "cell_type": "code",
   "execution_count": 8,
   "id": "431bdf4a",
   "metadata": {},
   "outputs": [],
   "source": [
    "# Pretained Tokenizeer \n",
    "# https://blog.csdn.net/weixin_42223207/article/details/119336324\n",
    "# https://huggingface.co/transformers/v3.0.2/model_doc/distilbert.html#transformers.DistilBertTokenizer\n",
    "# Another class: DistilBertTokenizerFast\n",
    "tokenizer = DistilBertTokenizer.from_pretrained(\"distilbert-base-uncased\",do_lower_case=True) "
   ]
  },
  {
   "cell_type": "code",
   "execution_count": 9,
   "id": "f604a87a",
   "metadata": {},
   "outputs": [
    {
     "name": "stdout",
     "output_type": "stream",
     "text": [
      "I'll say one thing for Jeanette and Nelson--even when stranded in a mirthless, witless, painfully inept musical like this, there's still that twinkle in their eyes. Yes, the chemistry between the famous duo is there even when the material is paper thin.\n",
      "['i', \"'\", 'll', 'say', 'one', 'thing', 'for', 'jean', '##ette', 'and', 'nelson', '-', '-', 'even', 'when', 'stranded', 'in', 'a', 'mir', '##th', '##less', ',', 'wit', '##less', ',', 'painfully', 'in', '##ept', 'musical', 'like', 'this', ',', 'there', \"'\", 's', 'still', 'that', 'twinkle', 'in', 'their', 'eyes', '.', 'yes', ',', 'the', 'chemistry', 'between', 'the', 'famous', 'duo', 'is', 'there', 'even', 'when', 'the', 'material', 'is', 'paper', 'thin', '.']\n"
     ]
    }
   ],
   "source": [
    "# a lot of redundent words after tokenizing >> Maybe we should choose the other Tokenizer\n",
    "text = \"I'll say one thing for Jeanette and Nelson--even when stranded in a mirthless, witless, painfully inept musical like this, there's still that twinkle in their eyes. Yes, the chemistry between the famous duo is there even when the material is paper thin.\"\n",
    "tokens = tokenizer.tokenize(text)\n",
    "print(text)\n",
    "print(tokens)"
   ]
  },
  {
   "cell_type": "code",
   "execution_count": 10,
   "id": "1988a542",
   "metadata": {},
   "outputs": [],
   "source": [
    "# VERY SLOW \n",
    "# Example: encoder: https://huggingface.co/docs/transformers/v4.36.1/en/glossary#input-ids\n",
    "Maximum_Length = 64\n",
    "def bert_encode(data,maximum_length) :\n",
    "    input_ids = []\n",
    "    attention_masks = []\n",
    "  \n",
    "\n",
    "    for i in range(len(data)):\n",
    "        encoded = tokenizer.encode_plus(\n",
    "          data[i],\n",
    "          add_special_tokens=True, # add  [CLS] or [SEP]\n",
    "          max_length=maximum_length,\n",
    "          padding='max_length',\n",
    "          truncation=True,\n",
    "          return_attention_mask=True,\n",
    "        )\n",
    "        \n",
    "        input_ids.append(encoded['input_ids'])\n",
    "        attention_masks.append(encoded['attention_mask'])\n",
    "    return np.array(input_ids),np.array(attention_masks)\n",
    "\n",
    "train_input_ids,train_attention_masks = bert_encode(train_text_list,Maximum_Length) # tokenizer.model_max_length\n",
    "test_input_ids,test_attention_masks = bert_encode(test_text_list,Maximum_Length)"
   ]
  },
  {
   "cell_type": "code",
   "execution_count": 11,
   "id": "dc66a4f4",
   "metadata": {},
   "outputs": [
    {
     "name": "stdout",
     "output_type": "stream",
     "text": [
      "Encode Dict:\n",
      "{'input_ids': [101, 1045, 1005, 2222, 2360, 2028, 2518, 2005, 3744, 7585, 1998, 5912, 1011, 1011, 2130, 2043, 15577, 1999, 1037, 14719, 2705, 3238, 1010, 15966, 3238, 1010, 16267, 1999, 23606, 3315, 2066, 2023, 1010, 2045, 1005, 1055, 2145, 2008, 29038, 1999, 2037, 2159, 1012, 2748, 1010, 1996, 6370, 2090, 1996, 3297, 6829, 2003, 2045, 2130, 2043, 1996, 3430, 2003, 3259, 4857, 1012, 102, 0, 0], 'attention_mask': [1, 1, 1, 1, 1, 1, 1, 1, 1, 1, 1, 1, 1, 1, 1, 1, 1, 1, 1, 1, 1, 1, 1, 1, 1, 1, 1, 1, 1, 1, 1, 1, 1, 1, 1, 1, 1, 1, 1, 1, 1, 1, 1, 1, 1, 1, 1, 1, 1, 1, 1, 1, 1, 1, 1, 1, 1, 1, 1, 1, 1, 1, 0, 0]}\n",
      "Decode:\n",
      "[CLS] i'll say one thing for jeanette and nelson - - even when stranded in a mirthless, witless, painfully inept musical like this, there's still that twinkle in their eyes. yes, the chemistry between the famous duo is there even when the material is paper thin. [SEP] [PAD] [PAD]\n"
     ]
    }
   ],
   "source": [
    "#Example to show the above encoder\n",
    "\n",
    "encoder_dict = tokenizer.encode_plus(\n",
    "          text,\n",
    "          add_special_tokens=True, # add  [CLS] or [SEP]\n",
    "          max_length=64,\n",
    "          padding='max_length', # add [PAD]\n",
    "          truncation=True,\n",
    "          return_attention_mask=True,\n",
    "        )\n",
    "decode_test = tokenizer.decode(encoder_dict[\"input_ids\"])\n",
    "print(f'Encode Dict:\\n{encoder_dict}')\n",
    "print(f'Decode:\\n{decode_test}')"
   ]
  },
  {
   "cell_type": "code",
   "execution_count": 12,
   "id": "8be46131",
   "metadata": {},
   "outputs": [
    {
     "name": "stderr",
     "output_type": "stream",
     "text": [
      "Some weights of the PyTorch model were not used when initializing the TF 2.0 model TFDistilBertModel: ['vocab_layer_norm.weight', 'vocab_transform.weight', 'vocab_layer_norm.bias', 'vocab_projector.bias', 'vocab_transform.bias']\n",
      "- This IS expected if you are initializing TFDistilBertModel from a PyTorch model trained on another task or with another architecture (e.g. initializing a TFBertForSequenceClassification model from a BertForPreTraining model).\n",
      "- This IS NOT expected if you are initializing TFDistilBertModel from a PyTorch model that you expect to be exactly identical (e.g. initializing a TFBertForSequenceClassification model from a BertForSequenceClassification model).\n",
      "All the weights of TFDistilBertModel were initialized from the PyTorch model.\n",
      "If your task is similar to the task the model of the checkpoint was trained on, you can already use TFDistilBertModel for predictions without further training.\n"
     ]
    }
   ],
   "source": [
    "# uncased: do not make a difference between English and other languages\n",
    "distillBert_model = transformers.TFDistilBertModel.from_pretrained('distilbert-base-uncased')"
   ]
  },
  {
   "cell_type": "code",
   "execution_count": 13,
   "id": "94121b1c",
   "metadata": {},
   "outputs": [],
   "source": [
    "# Reference1 https://www.kaggle.com/code/colearninglounge/vectorization-embeddings-elmo-bert-gpt/notebook#BERT-Embeddings\n",
    "# Reference2 http:/www.kaggle.com/code/satyampd/imdb-sentiment-analysis-using-bert-w-huggingface\n",
    "# Reference3 https://zhuanlan.zhihu.com/p/103226488\n",
    "\n",
    "\n",
    "def build_model(transformer, max_len=Maximum_Length):\n",
    "    \n",
    "    input_word_ids = Input(shape=(max_len,), dtype=tf.int32, name=\"input_word_ids\")\n",
    "    input_masks_ids = Input(shape=(max_len,), dtype=tf.int32, name='masked_token')\n",
    "    sequence_output = transformer([input_word_ids,input_masks_ids])[0]\n",
    "    cls_token = sequence_output[:, 0, :]\n",
    "    out = Dense(1, activation='sigmoid')(cls_token)\n",
    "    \n",
    "    model = Model(inputs=[input_word_ids,input_masks_ids], outputs=out)\n",
    "    model.compile(Adam(lr=2e-5), loss='binary_crossentropy', metrics=['accuracy'])\n",
    "    \n",
    "    return model"
   ]
  },
  {
   "cell_type": "code",
   "execution_count": 14,
   "id": "6d7ec071",
   "metadata": {},
   "outputs": [
    {
     "name": "stdout",
     "output_type": "stream",
     "text": [
      "WARNING:tensorflow:AutoGraph could not transform <function input_processing at 0x0000025BD7629678> and will run it as-is.\n",
      "Please report this to the TensorFlow team. When filing the bug, set the verbosity to 10 (on Linux, `export AUTOGRAPH_VERBOSITY=10`) and attach the full output.\n",
      "Cause: '<' not supported between instances of 'Literal' and 'str'\n",
      "To silence this warning, decorate the function with @tf.autograph.experimental.do_not_convert\n",
      "WARNING: AutoGraph could not transform <function input_processing at 0x0000025BD7629678> and will run it as-is.\n",
      "Please report this to the TensorFlow team. When filing the bug, set the verbosity to 10 (on Linux, `export AUTOGRAPH_VERBOSITY=10`) and attach the full output.\n",
      "Cause: '<' not supported between instances of 'Literal' and 'str'\n",
      "To silence this warning, decorate the function with @tf.autograph.experimental.do_not_convert\n",
      "WARNING:tensorflow:From C:\\Users\\WTMH\\anaconda3\\envs\\tensor_gpu_py37\\lib\\site-packages\\tensorflow\\python\\ops\\array_ops.py:5049: calling gather (from tensorflow.python.ops.array_ops) with validate_indices is deprecated and will be removed in a future version.\n",
      "Instructions for updating:\n",
      "The `validate_indices` argument has no effect. Indices are always validated on CPU and never validated on GPU.\n",
      "Model: \"model\"\n",
      "__________________________________________________________________________________________________\n",
      "Layer (type)                    Output Shape         Param #     Connected to                     \n",
      "==================================================================================================\n",
      "input_word_ids (InputLayer)     [(None, 64)]         0                                            \n",
      "__________________________________________________________________________________________________\n",
      "masked_token (InputLayer)       [(None, 64)]         0                                            \n",
      "__________________________________________________________________________________________________\n",
      "tf_distil_bert_model (TFDistilB TFBaseModelOutput(la 66362880    input_word_ids[0][0]             \n",
      "                                                                 masked_token[0][0]               \n",
      "__________________________________________________________________________________________________\n",
      "tf.__operators__.getitem (Slici (None, 768)          0           tf_distil_bert_model[0][0]       \n",
      "__________________________________________________________________________________________________\n",
      "dense (Dense)                   (None, 1)            769         tf.__operators__.getitem[0][0]   \n",
      "==================================================================================================\n",
      "Total params: 66,363,649\n",
      "Trainable params: 66,363,649\n",
      "Non-trainable params: 0\n",
      "__________________________________________________________________________________________________\n"
     ]
    },
    {
     "name": "stderr",
     "output_type": "stream",
     "text": [
      "C:\\Users\\WTMH\\anaconda3\\envs\\tensor_gpu_py37\\lib\\site-packages\\tensorflow\\python\\keras\\optimizer_v2\\optimizer_v2.py:375: UserWarning: The `lr` argument is deprecated, use `learning_rate` instead.\n",
      "  \"The `lr` argument is deprecated, use `learning_rate` instead.\")\n"
     ]
    }
   ],
   "source": [
    "with tf.device('/GPU:0'):\n",
    "    model = build_model(distillBert_model)\n",
    "    model.summary()\n",
    "    train_input_ids = tf.constant(train_input_ids)\n",
    "    train_attention_masks = tf.constant(train_attention_masks)\n",
    "    test_input_ids = tf.constant(test_input_ids)\n",
    "    test_attention_masks = tf.constant(test_attention_masks)"
   ]
  },
  {
   "cell_type": "code",
   "execution_count": 15,
   "id": "f0318c18",
   "metadata": {},
   "outputs": [
    {
     "name": "stdout",
     "output_type": "stream",
     "text": [
      "Epoch 1/10\n",
      "50/50 - 7s - loss: 0.5261 - accuracy: 0.7025 - val_loss: 0.3008 - val_accuracy: 0.8750\n",
      "\n",
      "Epoch 00001: val_loss improved from inf to 0.30082, saving model to best_DistillBert_weights.h5\n",
      "Epoch 2/10\n",
      "50/50 - 4s - loss: 0.2055 - accuracy: 0.9237 - val_loss: 0.1849 - val_accuracy: 0.9271\n",
      "\n",
      "Epoch 00002: val_loss improved from 0.30082 to 0.18490, saving model to best_DistillBert_weights.h5\n",
      "Epoch 3/10\n",
      "50/50 - 4s - loss: 0.0513 - accuracy: 0.9862 - val_loss: 0.1589 - val_accuracy: 0.9271\n",
      "\n",
      "Epoch 00003: val_loss improved from 0.18490 to 0.15889, saving model to best_DistillBert_weights.h5\n",
      "Epoch 4/10\n",
      "50/50 - 4s - loss: 0.0116 - accuracy: 0.9975 - val_loss: 0.1840 - val_accuracy: 0.9375\n",
      "\n",
      "Epoch 00004: val_loss did not improve from 0.15889\n",
      "Epoch 5/10\n",
      "50/50 - 4s - loss: 0.0033 - accuracy: 1.0000 - val_loss: 0.2008 - val_accuracy: 0.9479\n",
      "\n",
      "Epoch 00005: val_loss did not improve from 0.15889\n",
      "Epoch 6/10\n",
      "50/50 - 4s - loss: 0.0018 - accuracy: 1.0000 - val_loss: 0.2041 - val_accuracy: 0.9479\n",
      "\n",
      "Epoch 00006: val_loss did not improve from 0.15889\n",
      "Epoch 7/10\n",
      "50/50 - 4s - loss: 0.0011 - accuracy: 1.0000 - val_loss: 0.2110 - val_accuracy: 0.9479\n",
      "\n",
      "Epoch 00007: val_loss did not improve from 0.15889\n",
      "Epoch 8/10\n",
      "50/50 - 4s - loss: 6.6580e-04 - accuracy: 1.0000 - val_loss: 0.2174 - val_accuracy: 0.9479\n",
      "\n",
      "Epoch 00008: val_loss did not improve from 0.15889\n",
      "Epoch 9/10\n",
      "50/50 - 4s - loss: 9.5321e-04 - accuracy: 1.0000 - val_loss: 0.2031 - val_accuracy: 0.9479\n",
      "\n",
      "Epoch 00009: val_loss did not improve from 0.15889\n",
      "Epoch 10/10\n",
      "50/50 - 4s - loss: 4.4573e-04 - accuracy: 1.0000 - val_loss: 0.2115 - val_accuracy: 0.9479\n",
      "\n",
      "Epoch 00010: val_loss did not improve from 0.15889\n"
     ]
    }
   ],
   "source": [
    "# warning!!　https://github.com/huggingface/transformers/issues/2256\n",
    "# Not fit the data and model on the gpu, so it's very slow >> set steps_per_epoch/batch_size as small vaule\n",
    "from tensorflow.keras.callbacks import ModelCheckpoint\n",
    "\n",
    "BATCH_SIZE = 16\n",
    "\n",
    "checkpoint = ModelCheckpoint(\n",
    "    'best_DistillBert_weights.h5', \n",
    "    monitor='val_loss',     \n",
    "    mode='min',\n",
    "    verbose=1,    \n",
    "    save_best_only=True,\n",
    "    save_weights_only=False\n",
    ")\n",
    "\n",
    "history = model.fit([train_input_ids,train_attention_masks],train_label,\n",
    "                    batch_size = BATCH_SIZE ,\n",
    "                    steps_per_epoch = train_text.shape[0]//BATCH_SIZE,\n",
    "                    validation_data=([test_input_ids,test_attention_masks],test_label),\n",
    "                    validation_batch_size=BATCH_SIZE,\n",
    "                    validation_steps = test_text.shape[0]//BATCH_SIZE,\n",
    "                    verbose = 2,\n",
    "                    epochs = 10,\n",
    "                    callbacks=[checkpoint])"
   ]
  },
  {
   "cell_type": "code",
   "execution_count": 16,
   "id": "f8b9f117",
   "metadata": {},
   "outputs": [
    {
     "data": {
      "image/png": "[encoded data removed]",
      "text/plain": [
       "<Figure size 1200x500 with 2 Axes>"
      ]
     },
     "metadata": {},
     "output_type": "display_data"
    }
   ],
   "source": [
    "import matplotlib.pyplot as plt\n",
    "\n",
    "train_loss = history.history['loss']\n",
    "val_loss = history.history['val_loss']\n",
    "\n",
    "train_acc = history.history['accuracy']\n",
    "val_acc = history.history['val_accuracy']\n",
    "\n",
    "plt.figure(figsize=(12, 5))\n",
    "\n",
    "plt.subplot(1, 2, 1)\n",
    "plt.plot(train_loss, label='Training Loss')\n",
    "plt.plot(val_loss, label='Validation Loss')\n",
    "plt.title('Loss (DistillBert)')\n",
    "plt.xlabel('Epoch')\n",
    "plt.ylabel('Loss')\n",
    "plt.legend()\n",
    "\n",
    "plt.subplot(1, 2, 2)\n",
    "plt.plot(train_acc, label='Training Accuracy')\n",
    "plt.plot(val_acc, label='Validation Accuracy')\n",
    "plt.title('Accuracy (DistillBert)')\n",
    "plt.xlabel('Epoch')\n",
    "plt.ylabel('Accuracy')\n",
    "plt.legend()\n",
    "\n",
    "plt.show()"
   ]
  },
  {
   "cell_type": "code",
   "execution_count": 17,
   "id": "345b3f09",
   "metadata": {
    "scrolled": false
   },
   "outputs": [
    {
     "name": "stdout",
     "output_type": "stream",
     "text": [
      "Text: 'Chefs are nutters. They’re all self-obsessed, delicate, dainty, insecure little souls, and absolute psychopaths. Every last one of them. My gran could do better! And she’s dead!'\n",
      "Predicted label: Negative \n",
      "\n",
      "Text: 'This dish, my dear friend, is nothing short of a culinary catastrophe. I've never encountered anything quite so disastrous in all my years in the kitchen. The flavors are an absolute train wreck, and the texture is reminiscent of a soggy, overcooked sponge. If this were a competition, it would undoubtedly be a contestant for the 'Worst Dish of the Century' award. An absolute travesty to the world of cuisine!'\n",
      "Predicted label: Negative \n",
      "\n",
      "Text: 'The culinary delights on offer here are simply extraordinary, with each bite offering an explosion of exquisite flavors that dance harmoniously on the palate, making it an unforgettable and truly gastronomic experience.'\n",
      "Predicted label: Positive \n",
      "\n"
     ]
    }
   ],
   "source": [
    "# --------------------Result Test------------------------------------\n",
    "\n",
    "test1 = \"Chefs are nutters. They’re all self-obsessed, delicate, dainty, insecure little souls, and absolute psychopaths. Every last one of them. My gran could do better! And she’s dead!\"\n",
    "test2 = \"This dish, my dear friend, is nothing short of a culinary catastrophe. I've never encountered anything quite so disastrous in all my years in the kitchen. The flavors are an absolute train wreck, and the texture is reminiscent of a soggy, overcooked sponge. If this were a competition, it would undoubtedly be a contestant for the 'Worst Dish of the Century' award. An absolute travesty to the world of cuisine!\"\n",
    "test3 = \"The culinary delights on offer here are simply extraordinary, with each bite offering an explosion of exquisite flavors that dance harmoniously on the palate, making it an unforgettable and truly gastronomic experience.\"\n",
    "\n",
    "# Tokenize the input sentence into a word list, then encode each word in this list\n",
    "result_input_ids,result_attention_masks = bert_encode([test1,test2,test3],Maximum_Length)\n",
    "\n",
    "# To tesnor format\n",
    "input_ids = tf.constant(result_input_ids)\n",
    "attention_mask = tf.constant(result_attention_masks)\n",
    "\n",
    "# Feed the encoded lsit into model and predict \n",
    "label_map = {0: \"Negative\", 1: \"Positive\"}\n",
    "prob = model([input_ids, attention_mask])\n",
    "predicted_labels = (prob.numpy() > 0.5).astype(int)\n",
    "\n",
    "for i, label in enumerate(predicted_labels):\n",
    "    test_text = [test1, test2, test3][i]\n",
    "    print(f\"Text: '{test_text}'\")\n",
    "    print(\"Predicted label:\", label_map[label[0]], \"\\n\")\n"
   ]
  },
  {
   "cell_type": "markdown",
   "id": "36c4dda6",
   "metadata": {},
   "source": [
    "## Load the trained model and predict"
   ]
  },
  {
   "cell_type": "code",
   "execution_count": 18,
   "id": "cde9e026",
   "metadata": {},
   "outputs": [],
   "source": [
    "# laod from weights and model\n",
    "from keras.models import load_model\n",
    "from transformers import TFDistilBertModel\n",
    "path = './best_DistillBert_weights.h5'\n",
    "new_model = load_model(path, custom_objects={'TFDistilBertModel': TFDistilBertModel})\n",
    "\n",
    "# laod from weights\n",
    "# path = '.\\\\best_DistillBert_weights.h5'\n",
    "# new_model = build_model(distillBert_model)\n",
    "# new_model.load_weights(path)"
   ]
  },
  {
   "cell_type": "code",
   "execution_count": 19,
   "id": "3450ef8a",
   "metadata": {},
   "outputs": [
    {
     "name": "stdout",
     "output_type": "stream",
     "text": [
      "Text: 'Chefs are nutters. They’re all self-obsessed, delicate, dainty, insecure little souls, and absolute psychopaths. Every last one of them. My gran could do better! And she’s dead!'\n",
      "Predicted label: Negative \n",
      "\n",
      "Text: 'This dish, my dear friend, is nothing short of a culinary catastrophe. I've never encountered anything quite so disastrous in all my years in the kitchen. The flavors are an absolute train wreck, and the texture is reminiscent of a soggy, overcooked sponge. If this were a competition, it would undoubtedly be a contestant for the 'Worst Dish of the Century' award. An absolute travesty to the world of cuisine!'\n",
      "Predicted label: Negative \n",
      "\n",
      "Text: 'The culinary delights on offer here are simply extraordinary, with each bite offering an explosion of exquisite flavors that dance harmoniously on the palate, making it an unforgettable and truly gastronomic experience.'\n",
      "Predicted label: Positive \n",
      "\n"
     ]
    }
   ],
   "source": [
    "test1 = \"Chefs are nutters. They’re all self-obsessed, delicate, dainty, insecure little souls, and absolute psychopaths. Every last one of them. My gran could do better! And she’s dead!\"\n",
    "test2 = \"This dish, my dear friend, is nothing short of a culinary catastrophe. I've never encountered anything quite so disastrous in all my years in the kitchen. The flavors are an absolute train wreck, and the texture is reminiscent of a soggy, overcooked sponge. If this were a competition, it would undoubtedly be a contestant for the 'Worst Dish of the Century' award. An absolute travesty to the world of cuisine!\"\n",
    "test3 = \"The culinary delights on offer here are simply extraordinary, with each bite offering an explosion of exquisite flavors that dance harmoniously on the palate, making it an unforgettable and truly gastronomic experience.\"\n",
    "\n",
    "# Tokenize the input sentence into a word list, then encode each word in this list\n",
    "result_input_ids,result_attention_masks = bert_encode([test1,test2,test3],Maximum_Length)\n",
    "\n",
    "# To tesnor format\n",
    "input_ids = tf.constant(result_input_ids)\n",
    "attention_mask = tf.constant(result_attention_masks)\n",
    "\n",
    "# Feed the encoded lsit into model and predict \n",
    "label_map = {0: \"Negative\", 1: \"Positive\"}\n",
    "prob = new_model([input_ids, attention_mask])\n",
    "predicted_labels = (prob.numpy() > 0.5).astype(int)\n",
    "\n",
    "for i, label in enumerate(predicted_labels):\n",
    "    test_text = [test1, test2, test3][i]\n",
    "    print(f\"Text: '{test_text}'\")\n",
    "    print(\"Predicted label:\", label_map[label[0]], \"\\n\")\n"
   ]
  },
  {
   "cell_type": "code",
   "execution_count": null,
   "id": "2560f841",
   "metadata": {},
   "outputs": [],
   "source": []
  }
 ],
 "metadata": {
  "kernelspec": {
   "display_name": "Python 3 (ipykernel)",
   "language": "python",
   "name": "python3"
  },
  "language_info": {
   "codemirror_mode": {
    "name": "ipython",
    "version": 3
   },
   "file_extension": ".py",
   "mimetype": "text/x-python",
   "name": "python",
   "nbconvert_exporter": "python",
   "pygments_lexer": "ipython3",
   "version": "3.7.16"
  }
 },
 "nbformat": 4,
 "nbformat_minor": 5
}
